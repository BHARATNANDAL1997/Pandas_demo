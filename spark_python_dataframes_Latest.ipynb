{
  "nbformat": 4,
  "nbformat_minor": 0,
  "metadata": {
    "colab": {
      "provenance": [],
      "name": "spark_python_dataframes_Latest.ipynb",
      "authorship_tag": "ABX9TyP5q1Y4CHTRGOqgJ2DfrGvg",
      "include_colab_link": true
    },
    "kernelspec": {
      "name": "python3",
      "display_name": "Python 3"
    },
    "language_info": {
      "name": "python"
    }
  },
  "cells": [
    {
      "cell_type": "markdown",
      "metadata": {
        "id": "view-in-github",
        "colab_type": "text"
      },
      "source": [
        "<a href=\"https://colab.research.google.com/github/BHARATNANDAL1997/Pandas_demo/blob/main/spark_python_dataframes_Latest.ipynb\" target=\"_parent\"><img src=\"https://colab.research.google.com/assets/colab-badge.svg\" alt=\"Open In Colab\"/></a>"
      ]
    },
    {
      "cell_type": "code",
      "execution_count": 1,
      "metadata": {
        "colab": {
          "base_uri": "https://localhost:8080/"
        },
        "id": "g3zi3deC6Nqb",
        "outputId": "da320036-b013-4116-e420-b311219712f3"
      },
      "outputs": [
        {
          "output_type": "stream",
          "name": "stdout",
          "text": [
            "Requirement already satisfied: pyspark in /usr/local/lib/python3.10/dist-packages (3.4.1)\n",
            "Requirement already satisfied: py4j==0.10.9.7 in /usr/local/lib/python3.10/dist-packages (from pyspark) (0.10.9.7)\n"
          ]
        }
      ],
      "source": [
        "!pip install pyspark"
      ]
    },
    {
      "cell_type": "code",
      "source": [
        "from pyspark.sql import SparkSession"
      ],
      "metadata": {
        "id": "wn_QxmDc6wsS"
      },
      "execution_count": 2,
      "outputs": []
    },
    {
      "cell_type": "code",
      "source": [
        "spark = SparkSession.builder.getOrCreate()"
      ],
      "metadata": {
        "id": "JDgHsj1b68Ua"
      },
      "execution_count": 3,
      "outputs": []
    },
    {
      "cell_type": "code",
      "source": [
        "dataList = [(\"java\", 20000), (\"python\", 100000), (\"scala\", 3000)]"
      ],
      "metadata": {
        "id": "NaJ4nqtj8Etn"
      },
      "execution_count": 4,
      "outputs": []
    },
    {
      "cell_type": "code",
      "source": [
        "rdd=spark.sparkContext.parallelize(dataList)"
      ],
      "metadata": {
        "id": "9cvg6JgU68gX"
      },
      "execution_count": 5,
      "outputs": []
    },
    {
      "cell_type": "code",
      "source": [
        "rdd.count()"
      ],
      "metadata": {
        "colab": {
          "base_uri": "https://localhost:8080/"
        },
        "id": "58byEWM-9mpN",
        "outputId": "e76486ae-d014-465e-ea11-89398edebfdc"
      },
      "execution_count": 6,
      "outputs": [
        {
          "output_type": "execute_result",
          "data": {
            "text/plain": [
              "3"
            ]
          },
          "metadata": {},
          "execution_count": 6
        }
      ]
    },
    {
      "cell_type": "markdown",
      "source": [],
      "metadata": {
        "id": "fHcSfhK9-79X"
      }
    },
    {
      "cell_type": "code",
      "source": [
        "rdd.collect()"
      ],
      "metadata": {
        "colab": {
          "base_uri": "https://localhost:8080/"
        },
        "id": "yBwl8A2lFjiy",
        "outputId": "b97ff2b4-5243-4bd6-e6d0-35c2fbd64838"
      },
      "execution_count": 7,
      "outputs": [
        {
          "output_type": "execute_result",
          "data": {
            "text/plain": [
              "[('java', 20000), ('python', 100000), ('scala', 3000)]"
            ]
          },
          "metadata": {},
          "execution_count": 7
        }
      ]
    },
    {
      "cell_type": "code",
      "source": [
        "rdd.first()"
      ],
      "metadata": {
        "colab": {
          "base_uri": "https://localhost:8080/"
        },
        "id": "lzqm1uNH-ltr",
        "outputId": "5d156b72-c49f-4a9a-ab3b-cef14160d8d0"
      },
      "execution_count": 8,
      "outputs": [
        {
          "output_type": "execute_result",
          "data": {
            "text/plain": [
              "('java', 20000)"
            ]
          },
          "metadata": {},
          "execution_count": 8
        }
      ]
    },
    {
      "cell_type": "code",
      "source": [
        "data = [('james','','Smith','1991-04-01','M',3000),\n",
        " ('Michael','Rose','','2005-05-19','M',4000),\n",
        " ('Robert','','Williams','1978-09-05','M',4000),\n",
        " ('Maria','Anne','Jones','1967-12-01','F',4000),\n",
        " ('Jen','Mary','Brown','1980-02-17','F',-1)]\n",
        "columns = [\"FIRST NAME\",\"MIDDLE NAME\",\"LAST NAME\",\"job\",\"gender\",\"salary\"]\n",
        "df = spark.createDataFrame(data=data, schema = columns)"
      ],
      "metadata": {
        "id": "oxmaI1jhVINH"
      },
      "execution_count": 9,
      "outputs": []
    },
    {
      "cell_type": "code",
      "source": [
        "df.show()"
      ],
      "metadata": {
        "colab": {
          "base_uri": "https://localhost:8080/"
        },
        "id": "q91quZDHcKko",
        "outputId": "a42cf81d-f2d8-4652-9e32-a4e7e6d936b8"
      },
      "execution_count": 10,
      "outputs": [
        {
          "output_type": "stream",
          "name": "stdout",
          "text": [
            "+----------+-----------+---------+----------+------+------+\n",
            "|FIRST NAME|MIDDLE NAME|LAST NAME|       job|gender|salary|\n",
            "+----------+-----------+---------+----------+------+------+\n",
            "|     james|           |    Smith|1991-04-01|     M|  3000|\n",
            "|   Michael|       Rose|         |2005-05-19|     M|  4000|\n",
            "|    Robert|           | Williams|1978-09-05|     M|  4000|\n",
            "|     Maria|       Anne|    Jones|1967-12-01|     F|  4000|\n",
            "|       Jen|       Mary|    Brown|1980-02-17|     F|    -1|\n",
            "+----------+-----------+---------+----------+------+------+\n",
            "\n"
          ]
        }
      ]
    },
    {
      "cell_type": "code",
      "source": [
        "columns = [\"language\",\"users count\"]\n",
        "data = [(\"java\",\"20000\"), (\"python\",\"100000\"),(\"scala\",\"30000\")]"
      ],
      "metadata": {
        "id": "hxfjZKKrfgXX"
      },
      "execution_count": 11,
      "outputs": []
    },
    {
      "cell_type": "code",
      "source": [
        "rdd = spark.sparkContext.parallelize(data)"
      ],
      "metadata": {
        "id": "FJBLawa7frPD"
      },
      "execution_count": 17,
      "outputs": []
    },
    {
      "cell_type": "code",
      "source": [
        "dfFromRDD1 = rdd.toDF()"
      ],
      "metadata": {
        "id": "COWXdrHwgrNz"
      },
      "execution_count": 26,
      "outputs": []
    },
    {
      "cell_type": "code",
      "source": [
        "dfFromRDD1.printSchema()"
      ],
      "metadata": {
        "colab": {
          "base_uri": "https://localhost:8080/"
        },
        "id": "2DxeOZWrgz6n",
        "outputId": "73b7ab61-349e-48d0-d088-b527cf61e86c"
      },
      "execution_count": 27,
      "outputs": [
        {
          "output_type": "stream",
          "name": "stdout",
          "text": [
            "root\n",
            " |-- _1: string (nullable = true)\n",
            " |-- _2: string (nullable = true)\n",
            "\n"
          ]
        }
      ]
    },
    {
      "cell_type": "code",
      "source": [
        "dfFromRDD1.show()"
      ],
      "metadata": {
        "colab": {
          "base_uri": "https://localhost:8080/"
        },
        "id": "EtL4U5Elhrri",
        "outputId": "7c527183-fcb0-4bf5-b6ba-c4b83aa5e2c8"
      },
      "execution_count": 30,
      "outputs": [
        {
          "output_type": "stream",
          "name": "stdout",
          "text": [
            "+------+------+\n",
            "|    _1|    _2|\n",
            "+------+------+\n",
            "|  java| 20000|\n",
            "|python|100000|\n",
            "| scala| 30000|\n",
            "+------+------+\n",
            "\n"
          ]
        }
      ]
    },
    {
      "cell_type": "code",
      "source": [],
      "metadata": {
        "id": "h2pFRgYzh-oQ"
      },
      "execution_count": null,
      "outputs": []
    }
  ]
}